{
 "cells": [
  {
   "cell_type": "code",
   "execution_count": 1,
   "metadata": {},
   "outputs": [],
   "source": [
    "#Este programa contém os códigos para a aula de Cidades Inteligentes"
   ]
  },
  {
   "cell_type": "markdown",
   "metadata": {},
   "source": [
    "#### Para a construção de um modelo utilizando o Spark e MLlib são necessários 6 passos:\n",
    "\n",
    "##### 1) Construir e iniciar a seção SPARK\n",
    "##### 2) Implementar o carregamento dos dados para o spark: Carregar o arquivo, especificar o formato desejado e lê os dados como um Dataframe do Spark\n",
    "##### 3) Identificar as características a serem utilizadas para treinamento e teste do modelo\n",
    "##### 4) Instanciar as classes e os objetos dos algoritmos a serem utilizados\n",
    "##### 5) Utilizar o método fit() para realizar o treinamento do modelo\n",
    "##### 6) Avaliar o modelo"
   ]
  },
  {
   "cell_type": "code",
   "execution_count": 3,
   "metadata": {},
   "outputs": [
    {
     "data": {
      "text/html": [
       "<style scoped>\n",
       "  .table-result-container {\n",
       "    max-height: 300px;\n",
       "    overflow: auto;\n",
       "  }\n",
       "  table, th, td {\n",
       "    border: 1px solid black;\n",
       "    border-collapse: collapse;\n",
       "  }\n",
       "  th, td {\n",
       "    padding: 5px;\n",
       "  }\n",
       "  th {\n",
       "    text-align: left;\n",
       "  }\n",
       "</style><div class='table-result-container'><table class='table-result'><thead style='background-color: white'><tr><th>path</th><th>name</th><th>size</th></tr></thead><tbody><tr><td>dbfs:/FileStore/tables/Mall_Customers.csv</td><td>Mall_Customers.csv</td><td>4286</td></tr><tr><td>dbfs:/FileStore/tables/Police_Department_Incident_Reports__Historical_2003_to_May_2018.csv</td><td>Police_Department_Incident_Reports__Historical_2003_to_May_2018.csv</td><td>463094961</td></tr><tr><td>dbfs:/FileStore/tables/Webinar_MLE_04_06.pptx</td><td>Webinar_MLE_04_06.pptx</td><td>5268055</td></tr><tr><td>dbfs:/FileStore/tables/adult_data.csv</td><td>adult_data.csv</td><td>5608318</td></tr><tr><td>dbfs:/FileStore/tables/d1995_07_01-24d0c.json</td><td>d1995_07_01-24d0c.json</td><td>7451741</td></tr><tr><td>dbfs:/FileStore/tables/d1995_07_02-c3f44.json</td><td>d1995_07_02-c3f44.json</td><td>9572086</td></tr><tr><td>dbfs:/FileStore/tables/d1995_07_03-f99af.json</td><td>d1995_07_03-f99af.json</td><td>14125303</td></tr><tr><td>dbfs:/FileStore/tables/d1995_07_04-c5a7f.json</td><td>d1995_07_04-c5a7f.json</td><td>12030333</td></tr><tr><td>dbfs:/FileStore/tables/d1995_07_05-0f261.json</td><td>d1995_07_05-0f261.json</td><td>14662194</td></tr><tr><td>dbfs:/FileStore/tables/d1995_07_06-20619.json</td><td>d1995_07_06-20619.json</td><td>15557682</td></tr><tr><td>dbfs:/FileStore/tables/d1995_07_07-2dd8d.json</td><td>d1995_07_07-2dd8d.json</td><td>15279295</td></tr><tr><td>dbfs:/FileStore/tables/d1995_07_08-83302.json</td><td>d1995_07_08-83302.json</td><td>7033852</td></tr><tr><td>dbfs:/FileStore/tables/d1995_07_09-f75d3.json</td><td>d1995_07_09-f75d3.json</td><td>5589076</td></tr><tr><td>dbfs:/FileStore/tables/d1995_07_10-160a3.json</td><td>d1995_07_10-160a3.json</td><td>10616482</td></tr><tr><td>dbfs:/FileStore/tables/d1995_07_11-8800f.json</td><td>d1995_07_11-8800f.json</td><td>12486245</td></tr><tr><td>dbfs:/FileStore/tables/d1995_07_12-3091c.json</td><td>d1995_07_12-3091c.json</td><td>14080494</td></tr><tr><td>dbfs:/FileStore/tables/d1995_07_13-242b2.json</td><td>d1995_07_13-242b2.json</td><td>21989188</td></tr><tr><td>dbfs:/FileStore/tables/d1995_07_14-bab67.json</td><td>d1995_07_14-bab67.json</td><td>13780636</td></tr><tr><td>dbfs:/FileStore/tables/d1995_07_15-57e08.json</td><td>d1995_07_15-57e08.json</td><td>8057272</td></tr><tr><td>dbfs:/FileStore/tables/d1995_07_16-2ca03.json</td><td>d1995_07_16-2ca03.json</td><td>7171848</td></tr><tr><td>dbfs:/FileStore/tables/d1995_07_17-905a5.json</td><td>d1995_07_17-905a5.json</td><td>11897536</td></tr><tr><td>dbfs:/FileStore/tables/d1995_07_18-13b8b.json</td><td>d1995_07_18-13b8b.json</td><td>10569098</td></tr><tr><td>dbfs:/FileStore/tables/d1995_07_19-e2537.json</td><td>d1995_07_19-e2537.json</td><td>11515206</td></tr><tr><td>dbfs:/FileStore/tables/d1995_07_20-0f6d2.json</td><td>d1995_07_20-0f6d2.json</td><td>11049142</td></tr><tr><td>dbfs:/FileStore/tables/d1995_07_21-37a88.json</td><td>d1995_07_21-37a88.json</td><td>10475868</td></tr><tr><td>dbfs:/FileStore/tables/d1995_07_22-3b894.json</td><td>d1995_07_22-3b894.json</td><td>6028420</td></tr><tr><td>dbfs:/FileStore/tables/d1995_07_23-8d606.json</td><td>d1995_07_23-8d606.json</td><td>5620028</td></tr><tr><td>dbfs:/FileStore/tables/d1995_07_24-bcae5.json</td><td>d1995_07_24-bcae5.json</td><td>10433367</td></tr><tr><td>dbfs:/FileStore/tables/d1995_07_25-22c14.json</td><td>d1995_07_25-22c14.json</td><td>9883055</td></tr><tr><td>dbfs:/FileStore/tables/d1995_07_26-8a504.json</td><td>d1995_07_26-8a504.json</td><td>9087395</td></tr><tr><td>dbfs:/FileStore/tables/d1995_07_27-32f69.json</td><td>d1995_07_27-32f69.json</td><td>10172162</td></tr><tr><td>dbfs:/FileStore/tables/d1995_07_28-8d6d2.json</td><td>d1995_07_28-8d6d2.json</td><td>6206927</td></tr><tr><td>dbfs:/FileStore/tables/datasets_228_482_diabetes.csv</td><td>datasets_228_482_diabetes.csv</td><td>23873</td></tr><tr><td>dbfs:/FileStore/tables/designation.json</td><td>designation.json</td><td>400</td></tr><tr><td>dbfs:/FileStore/tables/digits.csv</td><td>digits.csv</td><td>338477</td></tr><tr><td>dbfs:/FileStore/tables/digitsNew.csv</td><td>digitsNew.csv</td><td>76775041</td></tr><tr><td>dbfs:/FileStore/tables/healthcare_dataset_stroke_data.csv</td><td>healthcare_dataset_stroke_data.csv</td><td>316971</td></tr><tr><td>dbfs:/FileStore/tables/iris_bezdekIris.csv</td><td>iris_bezdekIris.csv</td><td>4551</td></tr><tr><td>dbfs:/FileStore/tables/kddcup_data_10_percent_corrected-2f6f3</td><td>kddcup_data_10_percent_corrected-2f6f3</td><td>74889749</td></tr><tr><td>dbfs:/FileStore/tables/regressaoLinear.csv</td><td>regressaoLinear.csv</td><td>564</td></tr><tr><td>dbfs:/FileStore/tables/salario_df.csv</td><td>salario_df.csv</td><td>2505</td></tr><tr><td>dbfs:/FileStore/tables/salary.json</td><td>salary.json</td><td>361</td></tr><tr><td>dbfs:/FileStore/tables/temperature.csv</td><td>temperature.csv</td><td>13971171</td></tr><tr><td>dbfs:/FileStore/tables/transport_nodes-7c826.csv</td><td>transport_nodes-7c826.csv</td><td>465</td></tr><tr><td>dbfs:/FileStore/tables/transport_relationships-c2bfc.csv</td><td>transport_relationships-c2bfc.csv</td><td>550</td></tr><tr><td>dbfs:/FileStore/tables/u.data</td><td>u.data</td><td>1979173</td></tr><tr><td>dbfs:/FileStore/tables/winequality_red-42ff5.csv</td><td>winequality_red-42ff5.csv</td><td>84199</td></tr><tr><td>dbfs:/FileStore/tables/worldcities.csv</td><td>worldcities.csv</td><td>1667065</td></tr></tbody></table></div>"
      ]
     },
     "metadata": {},
     "output_type": "display_data"
    }
   ],
   "source": [
    "%fs ls /FileStore/tables"
   ]
  },
  {
   "cell_type": "code",
   "execution_count": 4,
   "metadata": {},
   "outputs": [
    {
     "data": {
      "text/html": [
       "<style scoped>\n",
       "  .ansiout {\n",
       "    display: block;\n",
       "    unicode-bidi: embed;\n",
       "    white-space: pre-wrap;\n",
       "    word-wrap: break-word;\n",
       "    word-break: break-all;\n",
       "    font-family: \"Source Code Pro\", \"Menlo\", monospace;;\n",
       "    font-size: 13px;\n",
       "    color: #555;\n",
       "    margin-left: 4px;\n",
       "    line-height: 19px;\n",
       "  }\n",
       "</style>\n",
       "<div class=\"ansiout\"></div>"
      ]
     },
     "metadata": {},
     "output_type": "display_data"
    }
   ],
   "source": [
    "#importando as bibliotecas \n",
    "from pyspark.ml.classification import LogisticRegression   #utilizada para realizar a classifcação\n",
    "from pyspark.ml.feature import RegexTokenizer    #utilizada para realizar a tokenização (divisão da senteça em palavras)\n",
    "from pyspark.ml.feature import StopWordsRemover   #utilizada para remover as stopwords (palavras \"sem sentido\" para a análise)\n",
    "from pyspark.ml.feature import CountVectorizer  #transforma as palavras em vetores\n",
    "from pyspark.ml.feature import OneHotEncoder, StringIndexer, VectorAssembler   #utilizadsa para transformar os dados\n",
    "from pyspark.ml import Pipeline #utilizada para criar o pipeline de transformações\n",
    "from pyspark.sql.functions import col #utilizada para selecionar as colunas\n",
    "from pyspark.sql import SparkSession  #utilizada para iniciar a seção do spark\n",
    "from pyspark.ml.evaluation import MulticlassClassificationEvaluator  #utilizado para realizar a avaliação de classificadores não binários"
   ]
  },
  {
   "cell_type": "code",
   "execution_count": 5,
   "metadata": {},
   "outputs": [
    {
     "data": {
      "text/html": [
       "<style scoped>\n",
       "  .ansiout {\n",
       "    display: block;\n",
       "    unicode-bidi: embed;\n",
       "    white-space: pre-wrap;\n",
       "    word-wrap: break-word;\n",
       "    word-break: break-all;\n",
       "    font-family: \"Source Code Pro\", \"Menlo\", monospace;;\n",
       "    font-size: 13px;\n",
       "    color: #555;\n",
       "    margin-left: 4px;\n",
       "    line-height: 19px;\n",
       "  }\n",
       "</style>\n",
       "<div class=\"ansiout\"></div>"
      ]
     },
     "metadata": {},
     "output_type": "display_data"
    }
   ],
   "source": [
    "spark = SparkSession.builder.appName(\"PrevisaoDeCrimes\").getOrCreate()  #inicia a seção do spark"
   ]
  },
  {
   "cell_type": "code",
   "execution_count": 6,
   "metadata": {},
   "outputs": [
    {
     "data": {
      "text/html": [
       "<style scoped>\n",
       "  .ansiout {\n",
       "    display: block;\n",
       "    unicode-bidi: embed;\n",
       "    white-space: pre-wrap;\n",
       "    word-wrap: break-word;\n",
       "    word-break: break-all;\n",
       "    font-family: \"Source Code Pro\", \"Menlo\", monospace;;\n",
       "    font-size: 13px;\n",
       "    color: #555;\n",
       "    margin-left: 4px;\n",
       "    line-height: 19px;\n",
       "  }\n",
       "</style>\n",
       "<div class=\"ansiout\"></div>"
      ]
     },
     "metadata": {},
     "output_type": "display_data"
    }
   ],
   "source": [
    "diretorioDataset=\"/FileStore/tables/Police_Department_Incident_Reports__Historical_2003_to_May_2018.csv\"  #diretório que contém o arquivo a ser utilizado"
   ]
  },
  {
   "cell_type": "code",
   "execution_count": 7,
   "metadata": {},
   "outputs": [
    {
     "data": {
      "text/html": [
       "<style scoped>\n",
       "  .ansiout {\n",
       "    display: block;\n",
       "    unicode-bidi: embed;\n",
       "    white-space: pre-wrap;\n",
       "    word-wrap: break-word;\n",
       "    word-break: break-all;\n",
       "    font-family: \"Source Code Pro\", \"Menlo\", monospace;;\n",
       "    font-size: 13px;\n",
       "    color: #555;\n",
       "    margin-left: 4px;\n",
       "    line-height: 19px;\n",
       "  }\n",
       "</style>\n",
       "<div class=\"ansiout\"></div>"
      ]
     },
     "metadata": {},
     "output_type": "display_data"
    }
   ],
   "source": [
    "data = spark.read.format(\"csv\").options(header=\"true\", inferschema=\"true\").load(diretorioDataset)  #realiza a leitura do dataset"
   ]
  },
  {
   "cell_type": "code",
   "execution_count": 8,
   "metadata": {},
   "outputs": [
    {
     "data": {
      "text/html": [
       "<style scoped>\n",
       "  .ansiout {\n",
       "    display: block;\n",
       "    unicode-bidi: embed;\n",
       "    white-space: pre-wrap;\n",
       "    word-wrap: break-word;\n",
       "    word-break: break-all;\n",
       "    font-family: \"Source Code Pro\", \"Menlo\", monospace;;\n",
       "    font-size: 13px;\n",
       "    color: #555;\n",
       "    margin-left: 4px;\n",
       "    line-height: 19px;\n",
       "  }\n",
       "</style>\n",
       "<div class=\"ansiout\">Out[8]: [&#39;IncidntNum&#39;,\n",
       " &#39;Category&#39;,\n",
       " &#39;Descript&#39;,\n",
       " &#39;DayOfWeek&#39;,\n",
       " &#39;Date&#39;,\n",
       " &#39;Time&#39;,\n",
       " &#39;PdDistrict&#39;,\n",
       " &#39;Resolution&#39;,\n",
       " &#39;Address&#39;,\n",
       " &#39;X&#39;,\n",
       " &#39;Y&#39;,\n",
       " &#39;Location&#39;,\n",
       " &#39;PdId&#39;]</div>"
      ]
     },
     "metadata": {},
     "output_type": "display_data"
    }
   ],
   "source": [
    "data.columns  #apresenta as colunas do dataset"
   ]
  },
  {
   "cell_type": "code",
   "execution_count": 9,
   "metadata": {},
   "outputs": [
    {
     "data": {
      "text/html": [
       "<style scoped>\n",
       "  .ansiout {\n",
       "    display: block;\n",
       "    unicode-bidi: embed;\n",
       "    white-space: pre-wrap;\n",
       "    word-wrap: break-word;\n",
       "    word-break: break-all;\n",
       "    font-family: \"Source Code Pro\", \"Menlo\", monospace;;\n",
       "    font-size: 13px;\n",
       "    color: #555;\n",
       "    margin-left: 4px;\n",
       "    line-height: 19px;\n",
       "  }\n",
       "</style>\n",
       "<div class=\"ansiout\">Out[9]: 2215024</div>"
      ]
     },
     "metadata": {},
     "output_type": "display_data"
    }
   ],
   "source": [
    "data.count() #conta a quantidade de registros existente no dataset (linhas) - justifica ser distribuído "
   ]
  },
  {
   "cell_type": "code",
   "execution_count": 10,
   "metadata": {},
   "outputs": [
    {
     "data": {
      "text/html": [
       "<style scoped>\n",
       "  .ansiout {\n",
       "    display: block;\n",
       "    unicode-bidi: embed;\n",
       "    white-space: pre-wrap;\n",
       "    word-wrap: break-word;\n",
       "    word-break: break-all;\n",
       "    font-family: \"Source Code Pro\", \"Menlo\", monospace;;\n",
       "    font-size: 13px;\n",
       "    color: #555;\n",
       "    margin-left: 4px;\n",
       "    line-height: 19px;\n",
       "  }\n",
       "</style>\n",
       "<div class=\"ansiout\">root\n",
       "-- IncidntNum: integer (nullable = true)\n",
       "-- Category: string (nullable = true)\n",
       "-- Descript: string (nullable = true)\n",
       "-- DayOfWeek: string (nullable = true)\n",
       "-- Date: string (nullable = true)\n",
       "-- Time: string (nullable = true)\n",
       "-- PdDistrict: string (nullable = true)\n",
       "-- Resolution: string (nullable = true)\n",
       "-- Address: string (nullable = true)\n",
       "-- X: double (nullable = true)\n",
       "-- Y: double (nullable = true)\n",
       "-- Location: string (nullable = true)\n",
       "-- PdId: long (nullable = true)\n",
       "\n",
       "</div>"
      ]
     },
     "metadata": {},
     "output_type": "display_data"
    }
   ],
   "source": [
    "data.printSchema()  #realiza o print do schema para o bando de dados lido"
   ]
  },
  {
   "cell_type": "code",
   "execution_count": 11,
   "metadata": {},
   "outputs": [
    {
     "data": {
      "text/html": [
       "<style scoped>\n",
       "  .ansiout {\n",
       "    display: block;\n",
       "    unicode-bidi: embed;\n",
       "    white-space: pre-wrap;\n",
       "    word-wrap: break-word;\n",
       "    word-break: break-all;\n",
       "    font-family: \"Source Code Pro\", \"Menlo\", monospace;;\n",
       "    font-size: 13px;\n",
       "    color: #555;\n",
       "    margin-left: 4px;\n",
       "    line-height: 19px;\n",
       "  }\n",
       "</style>\n",
       "<div class=\"ansiout\">+----------+---------------+--------------------+---------+----------+-----+----------+--------------+--------------------+-----------------+----------------+--------------------+--------------+\n",
       "IncidntNum|       Category|            Descript|DayOfWeek|      Date| Time|PdDistrict|    Resolution|             Address|                X|               Y|            Location|          PdId|\n",
       "+----------+---------------+--------------------+---------+----------+-----+----------+--------------+--------------------+-----------------+----------------+--------------------+--------------+\n",
       " 110308742| MISSING PERSON|        FOUND PERSON|   Friday|04/15/2011|16:00|   TARAVAL|       LOCATED|0 Block of CRESPI DR|-122.476327815126|37.7196874952717|POINT (-122.47632...|11030874275000|\n",
       "  90316914|       WARRANTS|      WARRANT ARREST| Thursday|03/26/2009|12:28|  SOUTHERN|ARREST, BOOKED|1000 Block of MAR...|-122.411339562557|37.7812707434494|POINT (-122.41133...| 9031691463010|\n",
       " 130132311|SECONDARY CODES|   DOMESTIC VIOLENCE|   Friday|02/15/2013|02:00|      PARK|ARREST, BOOKED|CASTRO ST / MARKE...|-122.435187699349|37.7626702770872|POINT (-122.43518...|13013231115200|\n",
       "  80052833| OTHER OFFENSES|DRIVERS LICENSE, ...|  Tuesday|01/15/2008|20:13|   MISSION| ARREST, CITED|VALENCIA ST / 16T...|-122.421886357981|37.7649178909424|POINT (-122.42188...| 8005283365016|\n",
       "  70535770|SECONDARY CODES|   DOMESTIC VIOLENCE| Saturday|05/26/2007|18:10|   MISSION|ARREST, BOOKED|2800 Block of FOL...|-122.413935404044|37.7516932889916|POINT (-122.41393...| 7053577015200|\n",
       "+----------+---------------+--------------------+---------+----------+-----+----------+--------------+--------------------+-----------------+----------------+--------------------+--------------+\n",
       "only showing top 5 rows\n",
       "\n",
       "</div>"
      ]
     },
     "metadata": {},
     "output_type": "display_data"
    }
   ],
   "source": [
    "data.show(5)  #realiza o print do dataset utilizado"
   ]
  },
  {
   "cell_type": "markdown",
   "metadata": {},
   "source": [
    "Vamos eliminar algumas colunas, pois queremos classificar o tipo de crime."
   ]
  },
  {
   "cell_type": "code",
   "execution_count": 13,
   "metadata": {},
   "outputs": [
    {
     "data": {
      "text/html": [
       "<style scoped>\n",
       "  .ansiout {\n",
       "    display: block;\n",
       "    unicode-bidi: embed;\n",
       "    white-space: pre-wrap;\n",
       "    word-wrap: break-word;\n",
       "    word-break: break-all;\n",
       "    font-family: \"Source Code Pro\", \"Menlo\", monospace;;\n",
       "    font-size: 13px;\n",
       "    color: #555;\n",
       "    margin-left: 4px;\n",
       "    line-height: 19px;\n",
       "  }\n",
       "</style>\n",
       "<div class=\"ansiout\"></div>"
      ]
     },
     "metadata": {},
     "output_type": "display_data"
    }
   ],
   "source": [
    "drop_data = ['IncidntNum','Date','Time', 'DayOfWeek', 'PdDistrict', 'Resolution', 'Address', 'X', 'Y','PdId', 'Location']  #indica quais as colunas vamos eliminar (vamos ficar apenas com \"Category\" e \"Descript\")"
   ]
  },
  {
   "cell_type": "code",
   "execution_count": 14,
   "metadata": {},
   "outputs": [
    {
     "data": {
      "text/html": [
       "<style scoped>\n",
       "  .ansiout {\n",
       "    display: block;\n",
       "    unicode-bidi: embed;\n",
       "    white-space: pre-wrap;\n",
       "    word-wrap: break-word;\n",
       "    word-break: break-all;\n",
       "    font-family: \"Source Code Pro\", \"Menlo\", monospace;;\n",
       "    font-size: 13px;\n",
       "    color: #555;\n",
       "    margin-left: 4px;\n",
       "    line-height: 19px;\n",
       "  }\n",
       "</style>\n",
       "<div class=\"ansiout\"></div>"
      ]
     },
     "metadata": {},
     "output_type": "display_data"
    }
   ],
   "source": [
    "data = data.select([column for column in data.columns if column not in drop_data]) #aplica a seleção apenas da colunas que não estão na lista \"drop_data\""
   ]
  },
  {
   "cell_type": "code",
   "execution_count": 15,
   "metadata": {},
   "outputs": [
    {
     "data": {
      "text/html": [
       "<style scoped>\n",
       "  .ansiout {\n",
       "    display: block;\n",
       "    unicode-bidi: embed;\n",
       "    white-space: pre-wrap;\n",
       "    word-wrap: break-word;\n",
       "    word-break: break-all;\n",
       "    font-family: \"Source Code Pro\", \"Menlo\", monospace;;\n",
       "    font-size: 13px;\n",
       "    color: #555;\n",
       "    margin-left: 4px;\n",
       "    line-height: 19px;\n",
       "  }\n",
       "</style>\n",
       "<div class=\"ansiout\">+----------------------+-------------------------------------+\n",
       "Category              |Descript                             |\n",
       "+----------------------+-------------------------------------+\n",
       "MISSING PERSON        |FOUND PERSON                         |\n",
       "WARRANTS              |WARRANT ARREST                       |\n",
       "SECONDARY CODES       |DOMESTIC VIOLENCE                    |\n",
       "OTHER OFFENSES        |DRIVERS LICENSE, SUSPENDED OR REVOKED|\n",
       "SECONDARY CODES       |DOMESTIC VIOLENCE                    |\n",
       "OTHER OFFENSES        |TRAFFIC VIOLATION                    |\n",
       "LARCENY/THEFT         |GRAND THEFT FROM LOCKED AUTO         |\n",
       "FORGERY/COUNTERFEITING|FORGERY, DRIVERS LICENSE OR ID-CARD  |\n",
       "LARCENY/THEFT         |PETTY THEFT FROM LOCKED AUTO         |\n",
       "ASSAULT               |BATTERY OF A POLICE OFFICER          |\n",
       "+----------------------+-------------------------------------+\n",
       "only showing top 10 rows\n",
       "\n",
       "</div>"
      ]
     },
     "metadata": {},
     "output_type": "display_data"
    }
   ],
   "source": [
    "data.show(10,False)  #realiza o print do \"novo\" dataset"
   ]
  },
  {
   "cell_type": "code",
   "execution_count": 16,
   "metadata": {},
   "outputs": [
    {
     "data": {
      "text/html": [
       "<style scoped>\n",
       "  .ansiout {\n",
       "    display: block;\n",
       "    unicode-bidi: embed;\n",
       "    white-space: pre-wrap;\n",
       "    word-wrap: break-word;\n",
       "    word-break: break-all;\n",
       "    font-family: \"Source Code Pro\", \"Menlo\", monospace;;\n",
       "    font-size: 13px;\n",
       "    color: #555;\n",
       "    margin-left: 4px;\n",
       "    line-height: 19px;\n",
       "  }\n",
       "</style>\n",
       "<div class=\"ansiout\">+-------+-----------+--------------------+\n",
       "summary|   Category|            Descript|\n",
       "+-------+-----------+--------------------+\n",
       "  count|    2215024|             2215024|\n",
       "   mean|       null|                null|\n",
       " stddev|       null|                null|\n",
       "    min|      ARSON|ABANDONMENT OF CHILD|\n",
       "    max|WEAPON LAWS|         YOUTH COURT|\n",
       "+-------+-----------+--------------------+\n",
       "\n",
       "</div>"
      ]
     },
     "metadata": {},
     "output_type": "display_data"
    }
   ],
   "source": [
    "data.describe().show()  #conhecendo o dataset"
   ]
  },
  {
   "cell_type": "code",
   "execution_count": 17,
   "metadata": {},
   "outputs": [
    {
     "data": {
      "text/html": [
       "<style scoped>\n",
       "  .ansiout {\n",
       "    display: block;\n",
       "    unicode-bidi: embed;\n",
       "    white-space: pre-wrap;\n",
       "    word-wrap: break-word;\n",
       "    word-break: break-all;\n",
       "    font-family: \"Source Code Pro\", \"Menlo\", monospace;;\n",
       "    font-size: 13px;\n",
       "    color: #555;\n",
       "    margin-left: 4px;\n",
       "    line-height: 19px;\n",
       "  }\n",
       "</style>\n",
       "<div class=\"ansiout\">+--------------------+------+\n",
       "            Category| count|\n",
       "+--------------------+------+\n",
       "               FRAUD| 41542|\n",
       "             SUICIDE|  1292|\n",
       "         LIQUOR LAWS|  4083|\n",
       "     SECONDARY CODES| 25831|\n",
       "     FAMILY OFFENSES|  1183|\n",
       "      MISSING PERSON| 64961|\n",
       "      OTHER OFFENSES|309358|\n",
       "DRIVING UNDER THE...|  5672|\n",
       "            WARRANTS|101379|\n",
       "               ARSON|  3931|\n",
       "FORGERY/COUNTERFE...| 23050|\n",
       "            GAMBLING|   348|\n",
       "             BRIBERY|   813|\n",
       "             ASSAULT|194694|\n",
       "         DRUNKENNESS|  9826|\n",
       "           EXTORTION|   741|\n",
       "                TREA|    14|\n",
       "         WEAPON LAWS| 22234|\n",
       "           LOITERING|  2430|\n",
       "      SUSPICIOUS OCC| 80444|\n",
       "+--------------------+------+\n",
       "only showing top 20 rows\n",
       "\n",
       "</div>"
      ]
     },
     "metadata": {},
     "output_type": "display_data"
    }
   ],
   "source": [
    "data.groupby(\"Category\").count().show()  #conta a quantidade de elementos por categoria "
   ]
  },
  {
   "cell_type": "code",
   "execution_count": 18,
   "metadata": {},
   "outputs": [
    {
     "data": {
      "text/html": [
       "<style scoped>\n",
       "  .ansiout {\n",
       "    display: block;\n",
       "    unicode-bidi: embed;\n",
       "    white-space: pre-wrap;\n",
       "    word-wrap: break-word;\n",
       "    word-break: break-all;\n",
       "    font-family: \"Source Code Pro\", \"Menlo\", monospace;;\n",
       "    font-size: 13px;\n",
       "    color: #555;\n",
       "    margin-left: 4px;\n",
       "    line-height: 19px;\n",
       "  }\n",
       "</style>\n",
       "<div class=\"ansiout\">+------------------------+\n",
       "count(DISTINCT Category)|\n",
       "+------------------------+\n",
       "                      39|\n",
       "+------------------------+\n",
       "\n",
       "</div>"
      ]
     },
     "metadata": {},
     "output_type": "display_data"
    }
   ],
   "source": [
    "from pyspark.sql.functions import countDistinct, avg, stddev  #funções utilizadas para conhecer o dataset\n",
    "data.select(countDistinct(\"Category\")).show()  #conta a quantidade de categorias distintas presentes no dataset"
   ]
  },
  {
   "cell_type": "markdown",
   "metadata": {},
   "source": [
    "Preparando os dados .... Textual"
   ]
  },
  {
   "cell_type": "markdown",
   "metadata": {},
   "source": [
    "#1) Tokenização\n",
    "#2) Remoção de Stopwords\n",
    "#3) Vetorização (texto -> vetores)"
   ]
  },
  {
   "cell_type": "code",
   "execution_count": 21,
   "metadata": {},
   "outputs": [
    {
     "data": {
      "text/html": [
       "<style scoped>\n",
       "  .ansiout {\n",
       "    display: block;\n",
       "    unicode-bidi: embed;\n",
       "    white-space: pre-wrap;\n",
       "    word-wrap: break-word;\n",
       "    word-break: break-all;\n",
       "    font-family: \"Source Code Pro\", \"Menlo\", monospace;;\n",
       "    font-size: 13px;\n",
       "    color: #555;\n",
       "    margin-left: 4px;\n",
       "    line-height: 19px;\n",
       "  }\n",
       "</style>\n",
       "<div class=\"ansiout\"></div>"
      ]
     },
     "metadata": {},
     "output_type": "display_data"
    }
   ],
   "source": [
    "# aplicando expressões regulares (regular expression)\n",
    "re_Tokenizer = RegexTokenizer(inputCol=\"Descript\",outputCol=\"words\", pattern=\"\\\\W\")"
   ]
  },
  {
   "cell_type": "code",
   "execution_count": 22,
   "metadata": {},
   "outputs": [
    {
     "data": {
      "text/html": [
       "<style scoped>\n",
       "  .ansiout {\n",
       "    display: block;\n",
       "    unicode-bidi: embed;\n",
       "    white-space: pre-wrap;\n",
       "    word-wrap: break-word;\n",
       "    word-break: break-all;\n",
       "    font-family: \"Source Code Pro\", \"Menlo\", monospace;;\n",
       "    font-size: 13px;\n",
       "    color: #555;\n",
       "    margin-left: 4px;\n",
       "    line-height: 19px;\n",
       "  }\n",
       "</style>\n",
       "<div class=\"ansiout\"></div>"
      ]
     },
     "metadata": {},
     "output_type": "display_data"
    }
   ],
   "source": [
    "# remoção de stopwords\n",
    "stop_words = [\"http\",\"https\",\"amp\",\"rt\",\"t\",\"c\",\"the\"]   #cria o vetor que contém as palavras que não geram sentido ao texto\n",
    "stop_words_remover = StopWordsRemover(inputCol=\"words\", outputCol=\"filtered\").setStopWords(stop_words)  #aplica a remoção das stopwords contidas no vetor"
   ]
  },
  {
   "cell_type": "code",
   "execution_count": 23,
   "metadata": {},
   "outputs": [
    {
     "data": {
      "text/html": [
       "<style scoped>\n",
       "  .ansiout {\n",
       "    display: block;\n",
       "    unicode-bidi: embed;\n",
       "    white-space: pre-wrap;\n",
       "    word-wrap: break-word;\n",
       "    word-break: break-all;\n",
       "    font-family: \"Source Code Pro\", \"Menlo\", monospace;;\n",
       "    font-size: 13px;\n",
       "    color: #555;\n",
       "    margin-left: 4px;\n",
       "    line-height: 19px;\n",
       "  }\n",
       "</style>\n",
       "<div class=\"ansiout\"></div>"
      ]
     },
     "metadata": {},
     "output_type": "display_data"
    }
   ],
   "source": [
    "# Transformando as palavras em vetores (BagOfWords)\n",
    "count_vectors = CountVectorizer(inputCol=\"filtered\",outputCol=\"features\", vocabSize=10000, minDF=5)"
   ]
  },
  {
   "cell_type": "code",
   "execution_count": 24,
   "metadata": {},
   "outputs": [
    {
     "data": {
      "text/html": [
       "<style scoped>\n",
       "  .ansiout {\n",
       "    display: block;\n",
       "    unicode-bidi: embed;\n",
       "    white-space: pre-wrap;\n",
       "    word-wrap: break-word;\n",
       "    word-break: break-all;\n",
       "    font-family: \"Source Code Pro\", \"Menlo\", monospace;;\n",
       "    font-size: 13px;\n",
       "    color: #555;\n",
       "    margin-left: 4px;\n",
       "    line-height: 19px;\n",
       "  }\n",
       "</style>\n",
       "<div class=\"ansiout\"></div>"
      ]
     },
     "metadata": {},
     "output_type": "display_data"
    }
   ],
   "source": [
    "# aplicando a transformação (string -> numerica) de cada uma das categorias\n",
    "label_string_Idx = StringIndexer(inputCol = \"Category\", outputCol = \"label\")"
   ]
  },
  {
   "cell_type": "code",
   "execution_count": 25,
   "metadata": {},
   "outputs": [
    {
     "data": {
      "text/html": [
       "<style scoped>\n",
       "  .ansiout {\n",
       "    display: block;\n",
       "    unicode-bidi: embed;\n",
       "    white-space: pre-wrap;\n",
       "    word-wrap: break-word;\n",
       "    word-break: break-all;\n",
       "    font-family: \"Source Code Pro\", \"Menlo\", monospace;;\n",
       "    font-size: 13px;\n",
       "    color: #555;\n",
       "    margin-left: 4px;\n",
       "    line-height: 19px;\n",
       "  }\n",
       "</style>\n",
       "<div class=\"ansiout\"></div>"
      ]
     },
     "metadata": {},
     "output_type": "display_data"
    }
   ],
   "source": [
    "#define todas as operação através do pipeline\n",
    "pipeline = Pipeline(stages=[re_Tokenizer, stop_words_remover,count_vectors, label_string_Idx]) #diz a sequência das transformações a serem realizadas"
   ]
  },
  {
   "cell_type": "code",
   "execution_count": 26,
   "metadata": {},
   "outputs": [
    {
     "data": {
      "text/html": [
       "<style scoped>\n",
       "  .ansiout {\n",
       "    display: block;\n",
       "    unicode-bidi: embed;\n",
       "    white-space: pre-wrap;\n",
       "    word-wrap: break-word;\n",
       "    word-break: break-all;\n",
       "    font-family: \"Source Code Pro\", \"Menlo\", monospace;;\n",
       "    font-size: 13px;\n",
       "    color: #555;\n",
       "    margin-left: 4px;\n",
       "    line-height: 19px;\n",
       "  }\n",
       "</style>\n",
       "<div class=\"ansiout\"></div>"
      ]
     },
     "metadata": {},
     "output_type": "display_data"
    }
   ],
   "source": [
    "# Realmente, aplica as transformações \n",
    "pipeline_fit = pipeline.fit(data)  #aplica as transformações \n",
    "newDataset = pipeline_fit.transform(data)"
   ]
  },
  {
   "cell_type": "code",
   "execution_count": 27,
   "metadata": {},
   "outputs": [
    {
     "data": {
      "text/html": [
       "<style scoped>\n",
       "  .ansiout {\n",
       "    display: block;\n",
       "    unicode-bidi: embed;\n",
       "    white-space: pre-wrap;\n",
       "    word-wrap: break-word;\n",
       "    word-break: break-all;\n",
       "    font-family: \"Source Code Pro\", \"Menlo\", monospace;;\n",
       "    font-size: 13px;\n",
       "    color: #555;\n",
       "    margin-left: 4px;\n",
       "    line-height: 19px;\n",
       "  }\n",
       "</style>\n",
       "<div class=\"ansiout\">+----------------------+-------------------------------------+------------------------------------------+------------------------------------------+-----------------------------------------------------+-----+\n",
       "Category              |Descript                             |words                                     |filtered                                  |features                                             |label|\n",
       "+----------------------+-------------------------------------+------------------------------------------+------------------------------------------+-----------------------------------------------------+-----+\n",
       "MISSING PERSON        |FOUND PERSON                         |[found, person]                           |[found, person]                           |(886,[32,39],[1.0,1.0])                              |10.0 |\n",
       "WARRANTS              |WARRANT ARREST                       |[warrant, arrest]                         |[warrant, arrest]                         |(886,[17,33],[1.0,1.0])                              |7.0  |\n",
       "SECONDARY CODES       |DOMESTIC VIOLENCE                    |[domestic, violence]                      |[domestic, violence]                      |(886,[95,96],[1.0,1.0])                              |13.0 |\n",
       "OTHER OFFENSES        |DRIVERS LICENSE, SUSPENDED OR REVOKED|[drivers, license, suspended, or, revoked]|[drivers, license, suspended, or, revoked]|(886,[10,23,26,29,30],[1.0,1.0,1.0,1.0,1.0])         |1.0  |\n",
       "SECONDARY CODES       |DOMESTIC VIOLENCE                    |[domestic, violence]                      |[domestic, violence]                      |(886,[95,96],[1.0,1.0])                              |13.0 |\n",
       "OTHER OFFENSES        |TRAFFIC VIOLATION                    |[traffic, violation]                      |[traffic, violation]                      |(886,[12,34],[1.0,1.0])                              |1.0  |\n",
       "LARCENY/THEFT         |GRAND THEFT FROM LOCKED AUTO         |[grand, theft, from, locked, auto]        |[grand, theft, from, locked, auto]        |(886,[0,2,3,4,5],[1.0,1.0,1.0,1.0,1.0])              |0.0  |\n",
       "FORGERY/COUNTERFEITING|FORGERY, DRIVERS LICENSE OR ID-CARD  |[forgery, drivers, license, or, id, card] |[forgery, drivers, license, or, id, card] |(886,[10,23,26,58,109,159],[1.0,1.0,1.0,1.0,1.0,1.0])|14.0 |\n",
       "LARCENY/THEFT         |PETTY THEFT FROM LOCKED AUTO         |[petty, theft, from, locked, auto]        |[petty, theft, from, locked, auto]        |(886,[0,2,4,5,7],[1.0,1.0,1.0,1.0,1.0])              |0.0  |\n",
       "ASSAULT               |BATTERY OF A POLICE OFFICER          |[battery, of, a, police, officer]         |[battery, of, a, police, officer]         |(886,[1,9,21,107,122],[1.0,1.0,1.0,1.0,1.0])         |3.0  |\n",
       "+----------------------+-------------------------------------+------------------------------------------+------------------------------------------+-----------------------------------------------------+-----+\n",
       "only showing top 10 rows\n",
       "\n",
       "</div>"
      ]
     },
     "metadata": {},
     "output_type": "display_data"
    }
   ],
   "source": [
    "newDataset.show(10, False)"
   ]
  },
  {
   "cell_type": "code",
   "execution_count": 28,
   "metadata": {},
   "outputs": [
    {
     "data": {
      "text/html": [
       "<style scoped>\n",
       "  .ansiout {\n",
       "    display: block;\n",
       "    unicode-bidi: embed;\n",
       "    white-space: pre-wrap;\n",
       "    word-wrap: break-word;\n",
       "    word-break: break-all;\n",
       "    font-family: \"Source Code Pro\", \"Menlo\", monospace;;\n",
       "    font-size: 13px;\n",
       "    color: #555;\n",
       "    margin-left: 4px;\n",
       "    line-height: 19px;\n",
       "  }\n",
       "</style>\n",
       "<div class=\"ansiout\"></div>"
      ]
     },
     "metadata": {},
     "output_type": "display_data"
    }
   ],
   "source": [
    "#Dividindo os dados entre treinamento e teste\n",
    "(trainingData, testData) = newDataset.randomSplit([0.7, 0.3], seed = 100) #divide o datasete entre 70% para treinamento e 30% para teste"
   ]
  },
  {
   "cell_type": "code",
   "execution_count": 29,
   "metadata": {},
   "outputs": [
    {
     "data": {
      "text/html": [
       "<style scoped>\n",
       "  .ansiout {\n",
       "    display: block;\n",
       "    unicode-bidi: embed;\n",
       "    white-space: pre-wrap;\n",
       "    word-wrap: break-word;\n",
       "    word-break: break-all;\n",
       "    font-family: \"Source Code Pro\", \"Menlo\", monospace;;\n",
       "    font-size: 13px;\n",
       "    color: #555;\n",
       "    margin-left: 4px;\n",
       "    line-height: 19px;\n",
       "  }\n",
       "</style>\n",
       "<div class=\"ansiout\">Comprimento do Treinamento: 1549670\n",
       "Comprimento do Teste: 665354\n",
       "</div>"
      ]
     },
     "metadata": {},
     "output_type": "display_data"
    }
   ],
   "source": [
    "print(\"Comprimento do Treinamento: \" + str(trainingData.count())) #conta a quantidade de registros existentes no dataset\n",
    "print(\"Comprimento do Teste: \" + str(testData.count()))"
   ]
  },
  {
   "cell_type": "markdown",
   "metadata": {},
   "source": [
    "Analisando os dados de teste - Balanceado ?"
   ]
  },
  {
   "cell_type": "code",
   "execution_count": 31,
   "metadata": {},
   "outputs": [
    {
     "data": {
      "text/html": [
       "<style scoped>\n",
       "  .ansiout {\n",
       "    display: block;\n",
       "    unicode-bidi: embed;\n",
       "    white-space: pre-wrap;\n",
       "    word-wrap: break-word;\n",
       "    word-break: break-all;\n",
       "    font-family: \"Source Code Pro\", \"Menlo\", monospace;;\n",
       "    font-size: 13px;\n",
       "    color: #555;\n",
       "    margin-left: 4px;\n",
       "    line-height: 19px;\n",
       "  }\n",
       "</style>\n",
       "<div class=\"ansiout\">+--------+--------+-------+--------+-----------------+-----+\n",
       "Category|Descript|words  |filtered|features         |label|\n",
       "+--------+--------+-------+--------+-----------------+-----+\n",
       "ARSON   |ARSON   |[arson]|[arson] |(886,[193],[1.0])|27.0 |\n",
       "ARSON   |ARSON   |[arson]|[arson] |(886,[193],[1.0])|27.0 |\n",
       "ARSON   |ARSON   |[arson]|[arson] |(886,[193],[1.0])|27.0 |\n",
       "ARSON   |ARSON   |[arson]|[arson] |(886,[193],[1.0])|27.0 |\n",
       "ARSON   |ARSON   |[arson]|[arson] |(886,[193],[1.0])|27.0 |\n",
       "ARSON   |ARSON   |[arson]|[arson] |(886,[193],[1.0])|27.0 |\n",
       "ARSON   |ARSON   |[arson]|[arson] |(886,[193],[1.0])|27.0 |\n",
       "ARSON   |ARSON   |[arson]|[arson] |(886,[193],[1.0])|27.0 |\n",
       "ARSON   |ARSON   |[arson]|[arson] |(886,[193],[1.0])|27.0 |\n",
       "ARSON   |ARSON   |[arson]|[arson] |(886,[193],[1.0])|27.0 |\n",
       "+--------+--------+-------+--------+-----------------+-----+\n",
       "only showing top 10 rows\n",
       "\n",
       "</div>"
      ]
     },
     "metadata": {},
     "output_type": "display_data"
    }
   ],
   "source": [
    "testData.show(10, False)"
   ]
  },
  {
   "cell_type": "code",
   "execution_count": 32,
   "metadata": {},
   "outputs": [
    {
     "data": {
      "text/html": [
       "<style scoped>\n",
       "  .ansiout {\n",
       "    display: block;\n",
       "    unicode-bidi: embed;\n",
       "    white-space: pre-wrap;\n",
       "    word-wrap: break-word;\n",
       "    word-break: break-all;\n",
       "    font-family: \"Source Code Pro\", \"Menlo\", monospace;;\n",
       "    font-size: 13px;\n",
       "    color: #555;\n",
       "    margin-left: 4px;\n",
       "    line-height: 19px;\n",
       "  }\n",
       "</style>\n",
       "<div class=\"ansiout\">+------------------------+\n",
       "count(DISTINCT Category)|\n",
       "+------------------------+\n",
       "                      39|\n",
       "+------------------------+\n",
       "\n",
       "</div>"
      ]
     },
     "metadata": {},
     "output_type": "display_data"
    }
   ],
   "source": [
    "testData.select(countDistinct(\"Category\")).show()  #conta a quantidade de categorias distintas presentes no dataset"
   ]
  },
  {
   "cell_type": "code",
   "execution_count": 33,
   "metadata": {},
   "outputs": [
    {
     "data": {
      "text/html": [
       "<style scoped>\n",
       "  .ansiout {\n",
       "    display: block;\n",
       "    unicode-bidi: embed;\n",
       "    white-space: pre-wrap;\n",
       "    word-wrap: break-word;\n",
       "    word-break: break-all;\n",
       "    font-family: \"Source Code Pro\", \"Menlo\", monospace;;\n",
       "    font-size: 13px;\n",
       "    color: #555;\n",
       "    margin-left: 4px;\n",
       "    line-height: 19px;\n",
       "  }\n",
       "</style>\n",
       "<div class=\"ansiout\">+--------------------+-----+\n",
       "            Category|count|\n",
       "+--------------------+-----+\n",
       "               FRAUD|12464|\n",
       "             SUICIDE|  414|\n",
       "         LIQUOR LAWS| 1241|\n",
       "     SECONDARY CODES| 7838|\n",
       "     FAMILY OFFENSES|  391|\n",
       "      MISSING PERSON|19550|\n",
       "      OTHER OFFENSES|92840|\n",
       "DRIVING UNDER THE...| 1711|\n",
       "            WARRANTS|30637|\n",
       "               ARSON| 1192|\n",
       "FORGERY/COUNTERFE...| 7008|\n",
       "            GAMBLING|  106|\n",
       "             BRIBERY|  266|\n",
       "             ASSAULT|58075|\n",
       "         DRUNKENNESS| 2967|\n",
       "           EXTORTION|  212|\n",
       "                TREA|    5|\n",
       "         WEAPON LAWS| 6761|\n",
       "           LOITERING|  736|\n",
       "      SUSPICIOUS OCC|24151|\n",
       "+--------------------+-----+\n",
       "only showing top 20 rows\n",
       "\n",
       "</div>"
      ]
     },
     "metadata": {},
     "output_type": "display_data"
    }
   ],
   "source": [
    "testData.groupby(\"Category\").count().show()  #conta a quantidade de elementos por categoria "
   ]
  },
  {
   "cell_type": "markdown",
   "metadata": {},
   "source": [
    "Aplicando o modelo de classificação"
   ]
  },
  {
   "cell_type": "code",
   "execution_count": 35,
   "metadata": {},
   "outputs": [
    {
     "data": {
      "text/html": [
       "<style scoped>\n",
       "  .ansiout {\n",
       "    display: block;\n",
       "    unicode-bidi: embed;\n",
       "    white-space: pre-wrap;\n",
       "    word-wrap: break-word;\n",
       "    word-break: break-all;\n",
       "    font-family: \"Source Code Pro\", \"Menlo\", monospace;;\n",
       "    font-size: 13px;\n",
       "    color: #555;\n",
       "    margin-left: 4px;\n",
       "    line-height: 19px;\n",
       "  }\n",
       "</style>\n",
       "<div class=\"ansiout\"></div>"
      ]
     },
     "metadata": {},
     "output_type": "display_data"
    }
   ],
   "source": [
    "#Constrói o modelo de classificação \n",
    "regressor = LogisticRegression(maxIter=20, regParam=0.3, elasticNetParam=0)"
   ]
  },
  {
   "cell_type": "code",
   "execution_count": 36,
   "metadata": {},
   "outputs": [
    {
     "data": {
      "text/html": [
       "<style scoped>\n",
       "  .ansiout {\n",
       "    display: block;\n",
       "    unicode-bidi: embed;\n",
       "    white-space: pre-wrap;\n",
       "    word-wrap: break-word;\n",
       "    word-break: break-all;\n",
       "    font-family: \"Source Code Pro\", \"Menlo\", monospace;;\n",
       "    font-size: 13px;\n",
       "    color: #555;\n",
       "    margin-left: 4px;\n",
       "    line-height: 19px;\n",
       "  }\n",
       "</style>\n",
       "<div class=\"ansiout\"></div>"
      ]
     },
     "metadata": {},
     "output_type": "display_data"
    }
   ],
   "source": [
    "# aplica a regressão aos dados de treinamento\n",
    "modeloRegressaoL = regressor.fit(trainingData)  "
   ]
  },
  {
   "cell_type": "code",
   "execution_count": 37,
   "metadata": {},
   "outputs": [
    {
     "data": {
      "text/html": [
       "<style scoped>\n",
       "  .ansiout {\n",
       "    display: block;\n",
       "    unicode-bidi: embed;\n",
       "    white-space: pre-wrap;\n",
       "    word-wrap: break-word;\n",
       "    word-break: break-all;\n",
       "    font-family: \"Source Code Pro\", \"Menlo\", monospace;;\n",
       "    font-size: 13px;\n",
       "    color: #555;\n",
       "    margin-left: 4px;\n",
       "    line-height: 19px;\n",
       "  }\n",
       "</style>\n",
       "<div class=\"ansiout\"></div>"
      ]
     },
     "metadata": {},
     "output_type": "display_data"
    }
   ],
   "source": [
    "#realiza a previsão utilizando o modelo de regressão logística\n",
    "previsao = modeloRegressaoL.transform(testData)"
   ]
  },
  {
   "cell_type": "code",
   "execution_count": 38,
   "metadata": {},
   "outputs": [
    {
     "data": {
      "text/html": [
       "<style scoped>\n",
       "  .ansiout {\n",
       "    display: block;\n",
       "    unicode-bidi: embed;\n",
       "    white-space: pre-wrap;\n",
       "    word-wrap: break-word;\n",
       "    word-break: break-all;\n",
       "    font-family: \"Source Code Pro\", \"Menlo\", monospace;;\n",
       "    font-size: 13px;\n",
       "    color: #555;\n",
       "    margin-left: 4px;\n",
       "    line-height: 19px;\n",
       "  }\n",
       "</style>\n",
       "<div class=\"ansiout\">Out[33]: 0.9724319783834035</div>"
      ]
     },
     "metadata": {},
     "output_type": "display_data"
    }
   ],
   "source": [
    "#avalia o modelo de previsão construído\n",
    "avaliacao = MulticlassClassificationEvaluator(predictionCol=\"prediction\",metricName='f1') #funcao utilizada para realizar a avaliação de classifcadores com várias classes\n",
    "avaliacao.evaluate(previsao)  #accuracy, areaUnderROC, accuracy"
   ]
  }
 ],
 "metadata": {
  "kernelspec": {
   "display_name": "Python 3",
   "language": "python",
   "name": "python3"
  },
  "language_info": {
   "codemirror_mode": {
    "name": "ipython",
    "version": 3
   },
   "file_extension": ".py",
   "mimetype": "text/x-python",
   "name": "python",
   "nbconvert_exporter": "python",
   "pygments_lexer": "ipython3",
   "version": "3.7.7"
  },
  "name": "MLSmartCities",
  "notebookId": 265737348164633
 },
 "nbformat": 4,
 "nbformat_minor": 4
}
